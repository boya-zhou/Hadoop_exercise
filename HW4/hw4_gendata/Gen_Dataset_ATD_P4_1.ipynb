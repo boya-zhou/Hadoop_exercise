{
 "cells": [
  {
   "cell_type": "code",
   "execution_count": 4,
   "metadata": {
    "collapsed": false
   },
   "outputs": [
    {
     "name": "stdout",
     "output_type": "stream",
     "text": [
      "[[9027 9590]\n",
      " [9954 2152]\n",
      " [8710 4239]\n",
      " ..., \n",
      " [9771 2201]\n",
      " [7583 6542]\n",
      " [9009 6573]]\n",
      "finish\n"
     ]
    }
   ],
   "source": [
    "import numpy as np\n",
    "#generate point \n",
    "array_P1 = np.random.randint(10000, size=(11000000, 2))\n",
    "\n",
    "np.savetxt(fname = \"/Users/boyazhou/Desktop/CS561_ATD/HW3/Dataset_HW3/P1_point.txt\" , X = array_P1,fmt='%i', delimiter = ',')\n",
    "\n",
    "print array_P1\n",
    "\n",
    "print \"finish\""
   ]
  },
  {
   "cell_type": "code",
   "execution_count": 6,
   "metadata": {
    "collapsed": false
   },
   "outputs": [
    {
     "name": "stdout",
     "output_type": "stream",
     "text": [
      "[[6923 1557]\n",
      " [4440 4934]\n",
      " [ 674 4103]\n",
      " ..., \n",
      " [ 723 1756]\n",
      " [8498 4772]\n",
      " [4324  209]]\n",
      "finish\n"
     ]
    }
   ],
   "source": [
    "#generate rectangular\n",
    "#array_P2 = np.random.randint(9980, size=(5000000, 2))\n",
    "import numpy as np\n",
    "\n",
    "array_P2 = np.random.randint(9980, size=(4200000, 2))\n",
    "array_P2_new = np.array(array_P2)\n",
    "print array_P2\n",
    "\n",
    "for row in array_P2_new:\n",
    "    length = np.random.randint(21,size=1)\n",
    "    width = np.random.randint(6,size=1)\n",
    "    row[0] = row[0] + length\n",
    "    row[1] = row[1] + width\n",
    "    \n",
    "\n",
    "    \n",
    "array_P2_num = []\n",
    "i=1\n",
    "for i in range(4200000):\n",
    "    array_P2_num.append(\"r\"+str(i))\n",
    "    \n",
    "\n",
    "array_P2_num_new = np.array(array_P2_num)\n",
    "\n",
    "\n",
    "\n",
    "array_retangular = np.column_stack((array_P2_num_new,array_P2,array_P2_new))\n",
    "\n",
    "np.savetxt(fname = \"/Users/boyazhou/Desktop/CS561_ATD/HW3/Dataset_HW3/P1_regtangular.txt\" , \n",
    "           X = array_retangular,fmt='%s', delimiter = ',')\n",
    "\n",
    "print \"finish\""
   ]
  },
  {
   "cell_type": "code",
   "execution_count": 7,
   "metadata": {
    "collapsed": false
   },
   "outputs": [
    {
     "name": "stdout",
     "output_type": "stream",
     "text": [
      "[[4236 9902]\n",
      " [1481 5378]\n",
      " [5585 2985]\n",
      " [9730 3995]\n",
      " [7685   62]\n",
      " [3776 5471]\n",
      " [5462 9069]\n",
      " [3298 5568]\n",
      " [ 765 8089]\n",
      " [8335 2763]\n",
      " [5377 9914]\n",
      " [1706 4031]\n",
      " [7886  943]\n",
      " [1659 8683]\n",
      " [4037 6123]\n",
      " [8787 5934]\n",
      " [4003 2643]\n",
      " [1064 9317]\n",
      " [9610 9720]\n",
      " [1827 9065]]\n",
      "finish\n"
     ]
    }
   ],
   "source": [
    "import numpy as np\n",
    "#generate k initial points \n",
    "array_P1 = np.random.randint(10000, size=(20, 2))\n",
    "\n",
    "np.savetxt(fname = \"/Users/boyazhou/Desktop/CS561_ATD/HW3/Dataset_HW3/P3_initial_point.txt\" , \n",
    "           X = array_P1,fmt='%i', delimiter = ',')\n",
    "\n",
    "print array_P1\n",
    "\n",
    "print \"finish\""
   ]
  },
  {
   "cell_type": "code",
   "execution_count": 44,
   "metadata": {
    "collapsed": false
   },
   "outputs": [
    {
     "name": "stdout",
     "output_type": "stream",
     "text": [
      "finish\n"
     ]
    }
   ],
   "source": [
    "import numpy as np\n",
    "import random, string\n",
    "import json\n",
    "import pandas as pd\n",
    "#customID:incremental\n",
    "#Name:random in 100 character\n",
    "#Address:random 100 in character \n",
    "#Salary:[100:1000]\n",
    "#Gender:male or female\n",
    "\n",
    "#generate 5 col seperately and change to np.array\n",
    "array_customID = []\n",
    "i=0\n",
    "for i in range(320000):\n",
    "    array_customID.append(i)\n",
    "    \n",
    "array_customID_np = np.array(array_customID)\n",
    "\n",
    "array_saraly_np = np.random.randint(low=100,high=1000, size=(320000, 1))\n",
    "\n",
    "array_gender = []\n",
    "i=0\n",
    "for i in range(320000):\n",
    "    if np.random.randint(low=0,high=2, size=(1, 1)) == 1:\n",
    "        array_gender.append(\"male\")\n",
    "    else:\n",
    "        array_gender.append(\"female\")\n",
    "    \n",
    "array_gender_np = np.array(array_gender)\n",
    "\n",
    "def randomword(length):\n",
    "    return  ''.join(random.choice(string.lowercase) for i in range(length))\n",
    "\n",
    "\n",
    "array_name = []\n",
    "i=0\n",
    "for i in range(320000):\n",
    "    array_name.append(randomword(100))\n",
    "\n",
    "array_name_np = np.array(array_name)\n",
    "    \n",
    "array_address = []\n",
    "i=0\n",
    "for i in range(320000):\n",
    "    array_address.append(randomword(100))\n",
    "    \n",
    "array_address_np=np.array(array_address)\n",
    "\n",
    "#put all col together\n",
    "array_all_np = np.column_stack((array_customID_np,array_name_np,array_address_np,array_saraly_np,array_gender_np))\n",
    "\n",
    "array_all_pd = pd.DataFrame(array_all_np,columns=['Customer ID', 'Name', 'Address', 'Salary', 'Gender'])\n",
    "\n",
    "array_all_json = array_all_pd.to_json(orient='records')\n",
    "\n",
    "parsed = json.loads(array_all_json)\n",
    "parsed_json = json.dumps(parsed, indent=4,sort_keys=True)\n",
    "\n",
    "with open('/Users/boyazhou/Desktop/CS561_ATD/HW3/Dataset_HW3/DataSet_P2/Custom_json.txt', 'w') as outfile:\n",
    "    outfile.write(parsed_json)\n",
    "    \n",
    "print \"finish\""
   ]
  },
  {
   "cell_type": "code",
   "execution_count": 20,
   "metadata": {
    "collapsed": true
   },
   "outputs": [],
   "source": [
    "import pandas as pd\n"
   ]
  },
  {
   "cell_type": "code",
   "execution_count": null,
   "metadata": {
    "collapsed": true
   },
   "outputs": [],
   "source": []
  }
 ],
 "metadata": {
  "kernelspec": {
   "display_name": "Python 2",
   "language": "python",
   "name": "python2"
  },
  "language_info": {
   "codemirror_mode": {
    "name": "ipython",
    "version": 2
   },
   "file_extension": ".py",
   "mimetype": "text/x-python",
   "name": "python",
   "nbconvert_exporter": "python",
   "pygments_lexer": "ipython2",
   "version": "2.7.9"
  }
 },
 "nbformat": 4,
 "nbformat_minor": 0
}
